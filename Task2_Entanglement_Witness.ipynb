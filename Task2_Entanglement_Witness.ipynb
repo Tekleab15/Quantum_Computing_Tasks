{
  "cells": [
    {
      "cell_type": "markdown",
      "metadata": {
        "id": "view-in-github",
        "colab_type": "text"
      },
      "source": [
        "<a href=\"https://colab.research.google.com/github/Tekleab15/Quantum_Computing_Tasks/blob/main/Task2_Entanglement_Witness.ipynb\" target=\"_parent\"><img src=\"https://colab.research.google.com/assets/colab-badge.svg\" alt=\"Open In Colab\"/></a>"
      ]
    },
    {
      "cell_type": "markdown",
      "metadata": {
        "id": "NElKkmx3TI51"
      },
      "source": [
        "# **Task 2: Entanglement Witness**\n",
        "\n",
        "Build a circuit to test if two qubits are entangled:\n",
        "\n",
        "Prepare a Bell state (|00⟩ + |11⟩)/√2.\n",
        "\n",
        "Add a probabilistic error: With 20% chance, apply an X gate to one qubit.\n",
        "\n",
        "Measure just one qubit 1000 times. Is the output random (50/50)? If not, the qubits are no longer entangled.\n",
        "\n",
        "Goal: Show that entanglement breaks if you modify one qubit."
      ]
    },
    {
      "cell_type": "code",
      "source": [],
      "metadata": {
        "id": "ctSLx1ecTkOZ"
      },
      "execution_count": null,
      "outputs": []
    },
    {
      "cell_type": "markdown",
      "metadata": {
        "id": "QkWc3x5STUy7"
      },
      "source": [
        "**What is Entanglement witness? :**  An entanglement witness is a way to test for entanglement in a quantum system without needing to perform full quantum state tomography.\n",
        "\n",
        "here is the demonstration How it works ?\n",
        "\n",
        "An entanglement witness\n",
        "**𝑊**\n",
        " is constructed so that for every separable (unentangled) state **𝜌**sep\n",
        ", the expectation value is non-negative:\n",
        "\n",
        "# Tr(**𝑊**𝜌sep) ≥ 0.\n",
        "However, for at least one entangled state\n",
        "𝜌ent\n",
        ", the expectation value is negative:\n",
        "\n",
        "#  Tr(**𝑊**𝜌ent) < 0.\n",
        "\n",
        "My Approach to this task\n",
        "Prepare the Bell State: We begin by creating the Bell state\n",
        "\n",
        "## **∣Φ+⟩=∣00⟩+∣11⟩2**\n",
        ",\n",
        "which guarantees that if we measure one qubit, the outcome is statistically random (50/50).\n",
        "\n",
        "Quantum entanglement is a unique phenomenon in quantum mechanics where two or more particles become linked together in such a way that they share the same fate, no matter how far apart they are.\n",
        "Bell states are a set of maximally entangled two-qubit states. In a perfect Bell state  (∣00⟩+∣11⟩)/sqrt(2), measuring one qubit will instantly determine the state of the other."
      ]
    },
    {
      "cell_type": "code",
      "execution_count": 10,
      "metadata": {
        "id": "-A8Or7ftpxQG"
      },
      "outputs": [],
      "source": [
        "#Installing the required modules and libraries\n",
        "!pip install qiskit qiskit-aer"
      ]
    },
    {
      "cell_type": "code",
      "execution_count": 8,
      "metadata": {
        "id": "LiqC5uIHVxbH"
      },
      "outputs": [],
      "source": [
        "# Importing the required modules and libraries\n",
        "from qiskit import QuantumCircuit\n",
        "from qiskit_aer.primitives import Sampler\n",
        "from qiskit.visualization import plot_histogram\n",
        "import random"
      ]
    },
    {
      "cell_type": "code",
      "execution_count": 13,
      "metadata": {
        "id": "SssyQftJdw2J"
      },
      "outputs": [],
      "source": [
        "# Function to prepare the Bell state\n",
        "def entanglement_witness(shots=10000):\n",
        "    qc = QuantumCircuit(2, 1)  # 2 qubits, 1 classical bit\n",
        "\n",
        "    # 1. Prepare Bell state (|00⟩ + |11⟩)/√2\n",
        "    qc.h(0)\n",
        "    qc.cx(0, 1)\n",
        "\n",
        "    # 2. Introduce error that breaks entanglement (20% chance)\n",
        "    if random.random() < 0.2:\n",
        "        # These operations will break entanglement\n",
        "        # Collapses and resets qubit 0 to |0⟩\n",
        "        qc.reset(0)\n",
        "        # Creates a separable state\n",
        "        qc.h(0)\n",
        "\n",
        "    # 3. Measure qubit 0\n",
        "    qc.measure(0, 0)\n",
        "\n",
        "    # Use the Sampler (note: using Sampler instead of SamplerV2 for compatibility)\n",
        "    sampler = Sampler()\n",
        "    job = sampler.run(qc, shots=shots)\n",
        "    result = job.result()\n",
        "\n",
        "    # Get the measurement counts\n",
        "    counts = result.quasi_dists[0].binary_probabilities()\n",
        "\n",
        "    # Convert to simple counts format\n",
        "    measurement_counts = {'0': int(shots * counts.get('0', 0)),\n",
        "                         '1': int(shots * counts.get('1', 0))}\n",
        "\n",
        "    return measurement_counts"
      ]
    },
    {
      "cell_type": "markdown",
      "source": [
        "**Visualizing and Measuring Entanglement**"
      ],
      "metadata": {
        "id": "SYnoESU1pN4E"
      }
    },
    {
      "cell_type": "code",
      "source": [
        "# Run the experiment\n",
        "measurement_counts = entanglement_witness(shots=10000)\n",
        "print(\"Measurement Counts:\", measurement_counts)\n",
        "\n",
        "# Calculate probabilities\n",
        "total = sum(measurement_counts.values())\n",
        "prob_0 = measurement_counts['0'] / total\n",
        "prob_1 = measurement_counts['1'] / total\n",
        "\n",
        "print(f\"Probability of |0⟩: {prob_0:.4f}\")\n",
        "print(f\"Probability of |1⟩: {prob_1:.4f}\")\n",
        "\n",
        "# Visualize the results\n",
        "plot_histogram(measurement_counts, title=\"Measurement of One Qubit After Potential Entanglement Breaking\")"
      ],
      "metadata": {
        "colab": {
          "base_uri": "https://localhost:8080/",
          "height": 574
        },
        "id": "-DOWDc93pV3a",
        "outputId": "770167bb-1382-4f4c-f9f9-0aff84e14c7a"
      },
      "execution_count": 14,
      "outputs": [
        {
          "output_type": "stream",
          "name": "stderr",
          "text": [
            "<ipython-input-14-4041f509212b>:2: DeprecationWarning: Sampler has been deprecated as of Aer 0.15, please use SamplerV2 instead.\n",
            "  measurement_counts = entanglement_witness(shots=10000)\n"
          ]
        },
        {
          "output_type": "stream",
          "name": "stdout",
          "text": [
            "Measurement Counts: {'0': 5054, '1': 4946}\n",
            "Probability of |0⟩: 0.5054\n",
            "Probability of |1⟩: 0.4946\n"
          ]
        },
        {
          "output_type": "execute_result",
          "data": {
            "text/plain": [
              "<Figure size 640x480 with 1 Axes>"
            ],
            "image/png": "[encoded data removed]"
          },
          "metadata": {},
          "execution_count": 14
        }
      ]
    }
  ],
  "metadata": {
    "colab": {
      "provenance": [],
      "authorship_tag": "ABX9TyOuo7Lx7kl+f+HEtHLUU5k1",
      "include_colab_link": true
    },
    "kernelspec": {
      "display_name": "Python 3",
      "name": "python3"
    },
    "language_info": {
      "name": "python"
    }
  },
  "nbformat": 4,
  "nbformat_minor": 0
}