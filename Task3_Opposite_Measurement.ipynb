{
  "nbformat": 4,
  "nbformat_minor": 0,
  "metadata": {
    "colab": {
      "provenance": [],
      "authorship_tag": "ABX9TyNoiP0Sz3kRPwd53Vscz09D",
      "include_colab_link": true
    },
    "kernelspec": {
      "name": "python3",
      "display_name": "Python 3"
    },
    "language_info": {
      "name": "python"
    }
  },
  "cells": [
    {
      "cell_type": "markdown",
      "metadata": {
        "id": "view-in-github",
        "colab_type": "text"
      },
      "source": [
        "<a href=\"https://colab.research.google.com/github/Tekleab15/Quantum_Computing_Tasks/blob/main/Task3_Opposite_Measurement.ipynb\" target=\"_parent\"><img src=\"https://colab.research.google.com/assets/colab-badge.svg\" alt=\"Open In Colab\"/></a>"
      ]
    },
    {
      "cell_type": "markdown",
      "source": [
        "**Task 3: Opposite-Measurement Entanglement**\n",
        "\n",
        "Goal: Create a circuit where two qubits are entangled such that measuring one always gives the opposite result of the other (e.g., if Qubit 0 is 0, Qubit 1 must be 1, and vice versa).\n",
        "\n",
        "Expected Output\n",
        "\n",
        "After 1000 shots, the histogram should show only 01 and 10 (never 00 or 11)."
      ],
      "metadata": {
        "id": "JrM3kCaA-lu9"
      }
    },
    {
      "cell_type": "markdown",
      "source": [
        "The idea is to create an anti-correlated (or opposite-measurement) Bell state.\n",
        "Steps to tackle it\n",
        "1. First, create the usual Bell state\n",
        "\n",
        "        ∣00⟩+∣11⟩/sqrt(2)\n",
        "    by applying a Hadamard gate on Qubit 0 and then a CNOT gate from Qubit 0 (control) to Qubit 1 (target).\n",
        "2. Then apply an X (bit-flip) gate to Qubit 1. This operation transforms the state as follows:\n",
        "\n",
        "    When the state was ∣00⟩, the X gate on qubit 1 turns it into  ∣01⟩.\n",
        "    When the state was ∣11⟩ it becomes ∣10⟩.\n",
        "    Thus, after the X gate on qubit 1 you obtain\n",
        "        ∣01⟩+∣10⟩/sqrt(2),"
      ],
      "metadata": {
        "id": "LGz5nJIJ-5Br"
      }
    },
    {
      "cell_type": "code",
      "source": [
        "# Installing the required modules and libraries\n",
        "# !pip install qiskit qiskit_aer"
      ],
      "metadata": {
        "id": "dmVnytVW_J9p"
      },
      "execution_count": 9,
      "outputs": []
    },
    {
      "cell_type": "code",
      "source": [
        "# Installing required libraries\n",
        "import qiskit, qiskit_aer\n",
        "from qiskit_aer.primitives import SamplerV2\n",
        "from qiskit.visualization import plot_histogram"
      ],
      "metadata": {
        "id": "luVTQh-c_J6q"
      },
      "execution_count": 11,
      "outputs": []
    },
    {
      "cell_type": "code",
      "execution_count": 8,
      "metadata": {
        "id": "wet5zWzDp9yE",
        "colab": {
          "base_uri": "https://localhost:8080/"
        },
        "outputId": "205ba89c-0021-47be-de5d-233cb5b3812f"
      },
      "outputs": [
        {
          "output_type": "stream",
          "name": "stdout",
          "text": [
            "        ┌───┐           ░ ┌─┐   \n",
            "   q_0: ┤ H ├──■────────░─┤M├───\n",
            "        └───┘┌─┴─┐┌───┐ ░ └╥┘┌─┐\n",
            "   q_1: ─────┤ X ├┤ X ├─░──╫─┤M├\n",
            "             └───┘└───┘ ░  ║ └╥┘\n",
            "   c: 2/═══════════════════╬══╬═\n",
            "                           ║  ║ \n",
            "meas: 2/═══════════════════╩══╩═\n",
            "                           0  1 \n"
          ]
        }
      ],
      "source": [
        "# We use 2 classical bits to explicitly measure both qubits.\n",
        "qc = qiskit.QuantumCircuit(2, 2)\n",
        "\n",
        "# Step 1: Create the Bell state (|00> + |11>)/sqrt(2)\n",
        "# Put qubit 0 in superposition\n",
        "qc.h(0)\n",
        "# Entangle qubit 1 with qubit 0 => state becomes (|00> + |11>)/sqrt(2)\n",
        "qc.cx(0,1)\n",
        "\n",
        "# Step 2: Apply an X gate to Qubit 1 to flip the state.\n",
        "qc.x(1)\n",
        "\n",
        "# Step 3: Measure both qubits.\n",
        "qc.measure_all()\n",
        "print(qc.draw())"
      ]
    },
    {
      "cell_type": "markdown",
      "source": [
        "**Expected Outcome:** The histogram (after 1000 shots) should show counts for only 01 and 10 (ideally in a roughly 50/50 split if there is no noise), with 0 counts for both 00 and 11."
      ],
      "metadata": {
        "id": "dRfEWD0z-4LT"
      }
    },
    {
      "cell_type": "code",
      "source": [
        "# Construct an ideal simulator with SamplerV2\n",
        "sampler = SamplerV2()\n",
        "job = sampler.run([qc], shots=1000)\n",
        "\n",
        "# Perform an ideal simulation\n",
        "result_ideal = job.result()\n",
        "counts_ideal = result_ideal[0].data.meas.get_counts()\n",
        "\n",
        "print(\"Histogram representation Opposite-Measurement Entanglement.\")\n",
        "print('Counts(ideal):', counts_ideal)\n",
        "\n",
        "# Visualize the results with histogram representation\n",
        "plot_histogram(counts_ideal)"
      ],
      "metadata": {
        "colab": {
          "base_uri": "https://localhost:8080/",
          "height": 524
        },
        "id": "HvyRxKFIE9zl",
        "outputId": "6c3627fd-e6e1-48a4-dc48-fbdd40d14513"
      },
      "execution_count": 14,
      "outputs": [
        {
          "output_type": "stream",
          "name": "stdout",
          "text": [
            "Histogram representation Opposite-Measurement Entanglement.\n",
            "Counts(ideal): {'01': 492, '10': 508}\n"
          ]
        },
        {
          "output_type": "execute_result",
          "data": {
            "text/plain": [
              "<Figure size 640x480 with 1 Axes>"
            ],
            "image/png": "[encoded data removed]"
          },
          "metadata": {},
          "execution_count": 14
        }
      ]
    },
    {
      "cell_type": "markdown",
      "source": [
        "This histogram confirms the entangled state was successfully generated, as only the anti-correlated outcomes '01' and '10' appear."
      ],
      "metadata": {
        "id": "HhfBuWOKMI4k"
      }
    }
  ]
}