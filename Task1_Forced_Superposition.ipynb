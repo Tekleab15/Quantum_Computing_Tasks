{
  "nbformat": 4,
  "nbformat_minor": 0,
  "metadata": {
    "colab": {
      "provenance": [],
      "authorship_tag": "ABX9TyNh5yddv+F2x4A6d2K9iNXB",
      "include_colab_link": true
    },
    "kernelspec": {
      "name": "python3",
      "display_name": "Python 3"
    },
    "language_info": {
      "name": "python"
    }
  },
  "cells": [
    {
      "cell_type": "markdown",
      "metadata": {
        "id": "view-in-github",
        "colab_type": "text"
      },
      "source": [
        "<a href=\"https://colab.research.google.com/github/Tekleab15/Quantum_Computing_Tasks/blob/main/Task1_Forced_Superposition.ipynb\" target=\"_parent\"><img src=\"https://colab.research.google.com/assets/colab-badge.svg\" alt=\"Open In Colab\"/></a>"
      ]
    },
    {
      "cell_type": "markdown",
      "source": [
        "# **Task 1: Forced Superposition**\n",
        "Create a circuit with 2 qubits where\n",
        "\n",
        "Qubit 0 is in state |+⟩ (superposition of |0⟩ and |1⟩).\n",
        "\n",
        "Qubit 1 is in state |1⟩.\n",
        "\n",
        "Entangle them so that measuring Qubit 0 always gives the opposite result of Qubit 1.\n",
        "\n",
        "Verify with 1000 shots and plot the counts.\n",
        "\n",
        "Hint: Use H, CX, and X gates."
      ],
      "metadata": {
        "id": "WuiQFIGywAe5"
      }
    },
    {
      "cell_type": "markdown",
      "source": [
        "**What is Foced Superposition:** Foced superposition is a situation where we intentionally drive or manipulate a quantum system from an initial, well-defined state into a coherent superposition of states using external controls."
      ],
      "metadata": {
        "id": "j99eSZqN06qC"
      }
    },
    {
      "cell_type": "code",
      "execution_count": 5,
      "metadata": {
        "id": "muIathxHpp8o"
      },
      "outputs": [],
      "source": [
        "# Installing the needed libraries and Modules\n",
        "!pip install qiskit qiskit-aer"
      ]
    },
    {
      "cell_type": "code",
      "source": [
        "# Importing the needed libraries and modules\n",
        "import qiskit, qiskit_aer\n",
        "from qiskit.visualization import plot_histogram\n",
        "from qiskit_aer.primitives import SamplerV2"
      ],
      "metadata": {
        "id": "yhRteeyU2EQ2"
      },
      "execution_count": 6,
      "outputs": []
    },
    {
      "cell_type": "markdown",
      "source": [
        "Creating a quantum circuit with 2 qubits and 2 classical bits for measurement"
      ],
      "metadata": {
        "id": "u0da6FDW2Bo_"
      }
    },
    {
      "cell_type": "code",
      "source": [
        "# Creating 2 classical and 2 qubits\n",
        "qc = qiskit.QuantumCircuit(2,2)\n",
        "\n",
        "# Qubit 0 is in state |+⟩ (superposition of |0⟩ and |1⟩) using Hadamard gate.\n",
        "qc.h(0)\n",
        "\n",
        "#Qubit 1 is in state |1⟩ createin Qubit state 1 using X gate.\n",
        "qc.x(1)\n",
        "\n",
        "# Entangle them so that measuring Qubit 0 always gives the opposite result of Qubit 1.\n",
        "# Apply a CNOT gate with Qubit 0 as control and Qubit 1 as target\n",
        "qc.cx(0,1)\n",
        "\n",
        "# Measurement\n",
        "qc.measure_all()\n",
        "\n",
        "# Showing up the circuit diagram\n",
        "print(\"Forced Superposition Circuitry: \")\n",
        "print(qc.draw())"
      ],
      "metadata": {
        "colab": {
          "base_uri": "https://localhost:8080/"
        },
        "id": "kVYUcBpn6SU9",
        "outputId": "85fc017f-14ab-46e6-b8cb-1a348b785328"
      },
      "execution_count": 7,
      "outputs": [
        {
          "output_type": "stream",
          "name": "stdout",
          "text": [
            "Forced Superposition Circuitry: \n",
            "        ┌───┐      ░ ┌─┐   \n",
            "   q_0: ┤ H ├──■───░─┤M├───\n",
            "        ├───┤┌─┴─┐ ░ └╥┘┌─┐\n",
            "   q_1: ┤ X ├┤ X ├─░──╫─┤M├\n",
            "        └───┘└───┘ ░  ║ └╥┘\n",
            "   c: 2/══════════════╬══╬═\n",
            "                      ║  ║ \n",
            "meas: 2/══════════════╩══╩═\n",
            "                      0  1 \n"
          ]
        }
      ]
    },
    {
      "cell_type": "markdown",
      "source": [
        "# Simulation using SamplerV2"
      ],
      "metadata": {
        "id": "Bto6iaSYBcof"
      }
    },
    {
      "cell_type": "code",
      "source": [
        "# Construct an ideal simulator with SamplerV2\n",
        "sampler = SamplerV2()\n",
        "\n",
        "job = sampler.run([qc], shots=1000)\n",
        "\n",
        "# Perform an ideal simulation\n",
        "result_ideal = job.result()\n",
        "counts_ideal = result_ideal[0].data.meas.get_counts()\n",
        "\n",
        "# Print the ideal measurement results\n",
        "print(\"Histogram representation of Forced Superposition\")\n",
        "print('Counts(ideal):', counts_ideal)\n",
        "\n",
        "# Visualize the results with histogram representation\n",
        "plot_histogram(counts_ideal)"
      ],
      "metadata": {
        "colab": {
          "base_uri": "https://localhost:8080/",
          "height": 524
        },
        "id": "-bwkxtSaBiQr",
        "outputId": "df1d9431-5a32-4469-c96a-d1fe9aa87493"
      },
      "execution_count": null,
      "outputs": [
        {
          "output_type": "stream",
          "name": "stdout",
          "text": [
            "Histogram representation of Forced Superposition\n",
            "Counts(ideal): {'01': 494, '10': 506}\n"
          ]
        },
        {
          "output_type": "execute_result",
          "data": {
            "text/plain": [
              "<Figure size 640x480 with 1 Axes>"
            ],
            "image/png": "[encoded data removed]"
          },
          "metadata": {},
          "execution_count": 61
        }
      ]
    },
    {
      "cell_type": "markdown",
      "source": [],
      "metadata": {
        "id": "6oZuq4oFO9Qq"
      }
    },
    {
      "cell_type": "code",
      "source": [],
      "metadata": {
        "id": "eSf3j-7oOQ9S"
      },
      "execution_count": null,
      "outputs": []
    }
  ]
}