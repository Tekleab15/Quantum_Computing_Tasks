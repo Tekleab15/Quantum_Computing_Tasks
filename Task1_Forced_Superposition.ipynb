{
  "nbformat": 4,
  "nbformat_minor": 0,
  "metadata": {
    "colab": {
      "provenance": [],
      "authorship_tag": "ABX9TyM5sNHD5f03CoNId5B7EEZH",
      "include_colab_link": true
    },
    "kernelspec": {
      "name": "python3",
      "display_name": "Python 3"
    },
    "language_info": {
      "name": "python"
    }
  },
  "cells": [
    {
      "cell_type": "markdown",
      "metadata": {
        "id": "view-in-github",
        "colab_type": "text"
      },
      "source": [
        "<a href=\"https://colab.research.google.com/github/Tekleab15/Quantum_Computing_Tasks/blob/main/Task1_Forced_Superposition.ipynb\" target=\"_parent\"><img src=\"https://colab.research.google.com/assets/colab-badge.svg\" alt=\"Open In Colab\"/></a>"
      ]
    },
    {
      "cell_type": "markdown",
      "source": [
        "# **Task 1: Forced Superposition**\n",
        "Create a circuit with 2 qubits where\n",
        "\n",
        "Qubit 0 is in state |+⟩ (superposition of |0⟩ and |1⟩).\n",
        "\n",
        "Qubit 1 is in state |1⟩.\n",
        "\n",
        "Entangle them so that measuring Qubit 0 always gives the opposite result of Qubit 1.\n",
        "\n",
        "Verify with 1000 shots and plot the counts.\n",
        "\n",
        "Hint: Use H, CX, and X gates."
      ],
      "metadata": {
        "id": "WuiQFIGywAe5"
      }
    },
    {
      "cell_type": "markdown",
      "source": [
        "**What is Foced Superposition:** is a situation where we intentionally drive or manipulate a quantum system from an initial, well-defined state into a coherent superposition of states using external controls."
      ],
      "metadata": {
        "id": "j99eSZqN06qC"
      }
    },
    {
      "cell_type": "code",
      "execution_count": 2,
      "metadata": {
        "id": "muIathxHpp8o"
      },
      "outputs": [],
      "source": [
        "# Installing the needed libraries and Modules\n",
        "# !pip install qiskit qiskit-aer"
      ]
    },
    {
      "cell_type": "code",
      "source": [
        "# Importing the needed libraries and modules\n",
        "import qiskit, qiskit_aer"
      ],
      "metadata": {
        "id": "yhRteeyU2EQ2"
      },
      "execution_count": 3,
      "outputs": []
    },
    {
      "cell_type": "markdown",
      "source": [],
      "metadata": {
        "id": "u0da6FDW2Bo_"
      }
    }
  ]
}