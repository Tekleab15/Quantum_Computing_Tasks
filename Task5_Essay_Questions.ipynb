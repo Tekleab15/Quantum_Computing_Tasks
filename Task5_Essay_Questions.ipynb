{
  "nbformat": 4,
  "nbformat_minor": 0,
  "metadata": {
    "colab": {
      "provenance": [],
      "authorship_tag": "ABX9TyPCdlZ2QyAKq4TujP7sOApW",
      "include_colab_link": true
    },
    "kernelspec": {
      "name": "python3",
      "display_name": "Python 3"
    },
    "language_info": {
      "name": "python"
    }
  },
  "cells": [
    {
      "cell_type": "markdown",
      "metadata": {
        "id": "view-in-github",
        "colab_type": "text"
      },
      "source": [
        "<a href=\"https://colab.research.google.com/github/Tekleab15/Quantum_Computing_Tasks/blob/main/Task5_Essay_Questions.ipynb\" target=\"_parent\"><img src=\"https://colab.research.google.com/assets/colab-badge.svg\" alt=\"Open In Colab\"/></a>"
      ]
    },
    {
      "cell_type": "markdown",
      "source": [
        "1. Superposition\n",
        "\n",
        "Superposition allows a quantum bit (qubit) to exist in a probabilistic combination of the classical states ∣0⟩ and ∣1⟩ simultaneously. Instead of being definitively 0 or 1, a qubit can be in a state α∣0⟩+β∣1⟩, where α and β are complex amplitudes. This allows qubits to encode and process much more information than classical bits, which can only be in one state at a time.\n",
        "\n",
        "Example from Task 1 (Forced Superposition):\n",
        "\n",
        " In Task 1, we created a qubit in the ∣+⟩ state, which is an equal superposition of ∣0⟩ and ∣1⟩ (∣0⟩+∣1⟩)/sqrt(2)). This single qubit effectively explored both classical states at once. When we then entangled it with another qubit, the superposition played a role in creating the correlation. While Task 1's \"forced superposition\" directly led to a specific correlation upon measurement, the underlying principle of a qubit existing in multiple states simultaneously is key. A classical bit cannot represent both 0 and 1 at the same time.\n",
        "\n",
        " Potential Speedup:\n",
        "\n",
        " Superposition allows a quantum computer to perform many computations in parallel. Imagine a function with n possible inputs. A classical computer would need to evaluate the function n times to check all inputs. A quantum computer, by preparing a superposition of all n inputs, could potentially evaluate the function for all inputs simultaneously. This parallelism is a source of quantum speedup for certain types of problems"
      ],
      "metadata": {
        "id": "au_pXml4wLsk"
      }
    },
    {
      "cell_type": "markdown",
      "source": [
        "# Entanglement\n",
        "\n",
        " Entanglement is a quantum mechanical phenomenon where two or more qubits become linked together in such a way that they share the same fate, no matter how far apart they are.\n",
        "\n",
        " The state of one qubit is instantaneously correlated with the state of the other(s), even if they are physically separated. The composite state of entangled qubits cannot be described as a product of the individual qubit states.\n",
        "\n",
        " Example from Task 2 (Bell State):\n",
        " In Task 2, we prepared a Bell state   \n",
        "    ∣00⟩+∣11⟩/sqrt(2)\n",
        "\n",
        "This is a prime example of entanglement. Measuring one qubit instantly tells us the state of the other. This strong correlation is a resource that can be exploited for quantum speedups.\n",
        "Potential Speedup: Entanglement allows for complex correlations between qubits, enabling quantum algorithms to perform tasks that would be intractable for classical computers. For example, in quantum teleportation, entanglement is used to transfer the state of a qubit from one location to another. In quantum algorithms like Shor's algorithm for factoring large numbers, entanglement plays a crucial role in achieving exponential speedup over the best classical algorithms. The interconnectedness created by entanglement allows for a more powerful form of parallel processing than what superposition alone can offer."
      ],
      "metadata": {
        "id": "7sq6OYYjxFEN"
      }
    },
    {
      "cell_type": "markdown",
      "source": [
        "2. Why can’t classical systems replicate this behavior?\n",
        "\n",
        "Classical systems operate based on the principles of classical physics, where a bit can only be in a definite state of 0 or 1 at any given time. They cannot simultaneously explore multiple states like a qubit in superposition. Similarly, classical systems cannot exhibit the instantaneous correlations seen in entangled quantum systems. If two classical bits are correlated, their states were determined at some point in the past, and any relationship between them is governed by classical information transfer, which is limited by the speed of light. Classical systems don't have *Superposition* as well as *Entanglement* behaviours"
      ],
      "metadata": {
        "id": "NDwp2KS4x4Dm"
      }
    },
    {
      "cell_type": "code",
      "source": [
        "print(\"Done!\")"
      ],
      "metadata": {
        "colab": {
          "base_uri": "https://localhost:8080/"
        },
        "id": "BeJHrMR3ySOk",
        "outputId": "f2619b20-5b24-4e51-ed5e-5b23e80be65c"
      },
      "execution_count": 1,
      "outputs": [
        {
          "output_type": "stream",
          "name": "stdout",
          "text": [
            "Done!\n"
          ]
        }
      ]
    }
  ]
}